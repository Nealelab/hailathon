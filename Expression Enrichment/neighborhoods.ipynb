{
 "cells": [
  {
   "cell_type": "code",
   "execution_count": null,
   "metadata": {},
   "outputs": [],
   "source": [
    "## importing hail\n",
    "import hail as hl\n",
    "\n",
    "## make a toy matrix\n",
    "def generate_gene_matrix(ngenes, nsamples):\n",
    "    mt = hl.utils.range_matrix_table(ngenes, nsamples)\n",
    "    mt = mt.annotate_rows(gene=hl.literal(\"gene_\") + hl.str(mt['row_idx']))\n",
    "    mt = mt.annotate_cols(sample=hl.literal(\"sample_\") + hl.str(mt['col_idx']))\n",
    "    mt = mt.annotate_entries(expression=hl.rand_unif(0, 1))\n",
    "    return mt\n",
    "\n",
    "ngenes=1000\n",
    "nsamples=50\n",
    "t = generate_gene_matrix(ngenes, nsamples).entries()\n",
    "t.show()"
   ]
  },
  {
   "cell_type": "code",
   "execution_count": null,
   "metadata": {},
   "outputs": [],
   "source": [
    "## read in the gene list\n",
    "SCZ_genelist = hl.import_table(\"/Users/andrea/Desktop/SCZ_genelist.txt\", no_header=True, impute=True)\n",
    "SCZ_genelist.show()"
   ]
  },
  {
   "cell_type": "code",
   "execution_count": null,
   "metadata": {
    "scrolled": true
   },
   "outputs": [],
   "source": [
    "## read in the meta data\n",
    "sample_meta = hl.import_table(\"/Users/andrea/Desktop/GTEx_v7_tissues.txt\", impute=True)\n",
    "sample_meta.show()"
   ]
  },
  {
   "cell_type": "code",
   "execution_count": null,
   "metadata": {},
   "outputs": [],
   "source": [
    "## read in the big data set\n",
    "df = hl.import_matrix_table(\"/Users/andrea/Desktop/GTEx_v7_rpkm.txt\",\n",
    "                           row_fields={'Name':hl.tstr, 'Description':hl.tstr},\n",
    "                           entry_type=hl.tfloat,\n",
    "                           row_key=\"Name\")\n",
    "df.count()"
   ]
  },
  {
   "cell_type": "code",
   "execution_count": null,
   "metadata": {},
   "outputs": [],
   "source": [
    "## save the big data table to speed things up\n",
    "df.write('/Users/andrea/Desktop/HAIL TSPEC/gtex_v7.mt')\n",
    "df = hl.read_matrix_table('/Users/andrea/Desktop/HAIL TSPEC/gtex_v7.mt')"
   ]
  },
  {
   "cell_type": "code",
   "execution_count": null,
   "metadata": {},
   "outputs": [],
   "source": [
    "## add a row annotation of mean expressions\n",
    "df_result = df.annotate_rows(mean_exp = hl.agg.mean(df.x))\n",
    "df_result.row.show()"
   ]
  },
  {
   "cell_type": "code",
   "execution_count": null,
   "metadata": {},
   "outputs": [],
   "source": [
    "## make a gene table\n",
    "gene_table=df_result.rows()\n",
    "gene_table._force_count()"
   ]
  },
  {
   "cell_type": "code",
   "execution_count": null,
   "metadata": {},
   "outputs": [],
   "source": [
    "## \n",
    "gene_table=gene_table.order_by(gene_table.mean_exp)\n",
    "gene_table.show()"
   ]
  },
  {
   "cell_type": "code",
   "execution_count": null,
   "metadata": {},
   "outputs": [],
   "source": [
    "gene_table = gene_table.add_index()\n",
    "gene_table.count()"
   ]
  },
  {
   "cell_type": "code",
   "execution_count": null,
   "metadata": {},
   "outputs": [],
   "source": [
    "genelist = SCZ_genelist.f0.collect()\n",
    "gene_table_perm=gene_table.filter(~hl.set(genelist).contains(gene_table.Description))\n",
    "gene_table_perm.count()"
   ]
  },
  {
   "cell_type": "code",
   "execution_count": null,
   "metadata": {},
   "outputs": [],
   "source": [
    "gene_table_list=gene_table.filter(hl.set(genelist).contains(gene_table.Description))\n",
    "gene_table_list.count()"
   ]
  },
  {
   "cell_type": "code",
   "execution_count": null,
   "metadata": {},
   "outputs": [],
   "source": [
    "gene_table_list.show()"
   ]
  },
  {
   "cell_type": "code",
   "execution_count": null,
   "metadata": {},
   "outputs": [],
   "source": []
  },
  {
   "cell_type": "code",
   "execution_count": null,
   "metadata": {},
   "outputs": [],
   "source": []
  }
 ],
 "metadata": {
  "kernelspec": {
   "display_name": "Python 3",
   "language": "python",
   "name": "python3"
  },
  "language_info": {
   "codemirror_mode": {
    "name": "ipython",
    "version": 3
   },
   "file_extension": ".py",
   "mimetype": "text/x-python",
   "name": "python",
   "nbconvert_exporter": "python",
   "pygments_lexer": "ipython3",
   "version": "3.6.4"
  }
 },
 "nbformat": 4,
 "nbformat_minor": 2
}
