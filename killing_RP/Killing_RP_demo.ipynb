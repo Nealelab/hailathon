{
 "cells": [
  {
   "cell_type": "code",
   "execution_count": 1,
   "metadata": {},
   "outputs": [],
   "source": [
    "import hail as hl"
   ]
  },
  {
   "cell_type": "code",
   "execution_count": 2,
   "metadata": {},
   "outputs": [],
   "source": [
    "from Killing_RP import *"
   ]
  },
  {
   "cell_type": "markdown",
   "metadata": {},
   "source": [
    "### 1- row key rsid"
   ]
  },
  {
   "cell_type": "code",
   "execution_count": 24,
   "metadata": {},
   "outputs": [
    {
     "name": "stderr",
     "output_type": "stream",
     "text": [
      "2018-04-30 15:43:22 Hail: INFO: Reading table with no type imputation\n",
      "  Loading column 'SNP' as type 'str' (type not specified)\n",
      "  Loading column 'CHR' as type 'str' (type not specified)\n",
      "  Loading column 'POS' as type 'int32' (user-specified)\n",
      "  Loading column 'A1' as type 'str' (type not specified)\n",
      "  Loading column 'A2' as type 'str' (type not specified)\n",
      "  Loading column 'Case' as type 'str' (type not specified)\n",
      "\n",
      "2018-04-30 15:43:22 Hail: INFO: Reading table with no type imputation\n",
      "  Loading column 'rsid' as type 'str' (type not specified)\n",
      "  Loading column 'chrom' as type 'str' (type not specified)\n",
      "  Loading column 'position' as type 'int32' (user-specified)\n",
      "  Loading column 'alt' as type 'str' (type not specified)\n",
      "  Loading column 'ref' as type 'str' (type not specified)\n",
      "  Loading column 'Case' as type 'str' (type not specified)\n",
      "\n"
     ]
    }
   ],
   "source": [
    "gwas = hl.import_table('snp_gwas.txt', types={'POS': hl.tint})\n",
    "reference = hl.import_table('snp_ref.txt',  types={'position': hl.tint}).add_index()"
   ]
  },
  {
   "cell_type": "code",
   "execution_count": 25,
   "metadata": {},
   "outputs": [],
   "source": [
    "gwas = gwas.key_by('SNP')\n",
    "gwas = gwas.annotate(alleles=[gwas.A1,gwas.A2])\n",
    "\n",
    "reference = reference.key_by('rsid')\n",
    "reference = reference.annotate(locus=hl.struct(contig=reference.chrom, \n",
    "                                               position=reference.position), \n",
    "                               alleles=[reference.ref, reference.alt])"
   ]
  },
  {
   "cell_type": "code",
   "execution_count": 7,
   "metadata": {},
   "outputs": [
    {
     "name": "stdout",
     "output_type": "stream",
     "text": [
      "+-------+-----+-------+-----+-----+------------------+------------+\n",
      "| SNP   | CHR |   POS | A1  | A2  | Case             | alleles    |\n",
      "+-------+-----+-------+-----+-----+------------------+------------+\n",
      "| str   | str | int32 | str | str | str              | array<str> |\n",
      "+-------+-----+-------+-----+-----+------------------+------------+\n",
      "| snp1  | 1   |     1 | A   | G   | snp;direct;nsa   | [\"A\",\"G\"]  |\n",
      "| snp2  | 1   |     2 | A   | G   | snp;swap;nsa     | [\"A\",\"G\"]  |\n",
      "| snp3  | 1   |     3 | A   | G   | snp;flip;nsa     | [\"A\",\"G\"]  |\n",
      "| snp4  | 1   |     4 | A   | G   | snp;swapflip;nsa | [\"A\",\"G\"]  |\n",
      "| snp5  | 1   |     5 | T   | A   | snp;direct;sa    | [\"T\",\"A\"]  |\n",
      "| snp6  | 1   |     6 | T   | A   | snp;swap;sa      | [\"T\",\"A\"]  |\n",
      "| snp7  | 1   |     7 | A   | AT  | indel;direct     | [\"A\",\"AT\"] |\n",
      "| snp8  | 1   |     8 | A   | AT  | indel;swap       | [\"A\",\"AT\"] |\n",
      "| snp9  | 1   |     9 | A   | C   | snp;multi        | [\"A\",\"C\"]  |\n",
      "| snp10 | 1   |    10 | A   | G   | nomatch          | [\"A\",\"G\"]  |\n",
      "+-------+-----+-------+-----+-----+------------------+------------+\n",
      "showing top 10 rows\n",
      "\n"
     ]
    }
   ],
   "source": [
    "gwas.show()"
   ]
  },
  {
   "cell_type": "code",
   "execution_count": 8,
   "metadata": {},
   "outputs": [
    {
     "name": "stdout",
     "output_type": "stream",
     "text": [
      "+------+-------+----------+-----+-----+------------------+-------+--------------+\n",
      "| rsid | chrom | position | alt | ref | Case             |   idx | locus.contig |\n",
      "+------+-------+----------+-----+-----+------------------+-------+--------------+\n",
      "| str  | str   | str      | str | str | str              | int64 | str          |\n",
      "+------+-------+----------+-----+-----+------------------+-------+--------------+\n",
      "| snp1 | 1     | 1        | A   | G   | snp;direct;nsa   |     0 | 1            |\n",
      "| snp2 | 1     | 2        | G   | A   | snp;swap;nsa     |     1 | 1            |\n",
      "| snp3 | 1     | 3        | T   | C   | snp;flip;nsa     |     2 | 1            |\n",
      "| snp4 | 1     | 4        | C   | T   | snp;swapflip;nsa |     3 | 1            |\n",
      "| snp5 | 1     | 5        | T   | A   | snp;direct;sa    |     4 | 1            |\n",
      "| snp6 | 1     | 6        | A   | T   | snp;swap;sa      |     5 | 1            |\n",
      "| snp7 | 1     | 7        | A   | AT  | indel;direct     |     6 | 1            |\n",
      "| snp8 | 1     | 8        | AT  | A   | indel;swap       |     7 | 1            |\n",
      "| snp9 | 1     | 9        | A   | C   | snp;multi        |     8 | 1            |\n",
      "| snp9 | 1     | 9        | A   | G   | snp;multi        |     9 | 1            |\n",
      "+------+-------+----------+-----+-----+------------------+-------+--------------+\n",
      "\n",
      "+----------------+------------+\n",
      "| locus.position | alleles    |\n",
      "+----------------+------------+\n",
      "| str            | array<str> |\n",
      "+----------------+------------+\n",
      "| 1              | [\"G\",\"A\"]  |\n",
      "| 2              | [\"A\",\"G\"]  |\n",
      "| 3              | [\"C\",\"T\"]  |\n",
      "| 4              | [\"T\",\"C\"]  |\n",
      "| 5              | [\"A\",\"T\"]  |\n",
      "| 6              | [\"T\",\"A\"]  |\n",
      "| 7              | [\"AT\",\"A\"] |\n",
      "| 8              | [\"A\",\"AT\"] |\n",
      "| 9              | [\"C\",\"A\"]  |\n",
      "| 9              | [\"G\",\"A\"]  |\n",
      "+----------------+------------+\n",
      "showing top 10 rows\n",
      "\n"
     ]
    }
   ],
   "source": [
    "reference.show()"
   ]
  },
  {
   "cell_type": "code",
   "execution_count": 5,
   "metadata": {},
   "outputs": [
    {
     "name": "stderr",
     "output_type": "stream",
     "text": [
      "2018-04-30 15:29:50 Hail: INFO: Ordering unsorted dataset with network shuffle\n",
      "2018-04-30 15:29:50 Hail: INFO: Coerced sorted dataset\n",
      "2018-04-30 15:29:51 Hail: INFO: Ordering unsorted dataset with network shuffle\n"
     ]
    }
   ],
   "source": [
    "# matched = match_variants(gwas_row_key, gwas_alleles, reference_row_key, reference_alleles)\n",
    "matched = match_variants(gwas.SNP, gwas.alleles, reference.rsid, reference.alleles)"
   ]
  },
  {
   "cell_type": "code",
   "execution_count": 19,
   "metadata": {},
   "outputs": [
    {
     "name": "stdout",
     "output_type": "stream",
     "text": [
      "+-------+-----+-----+-----+-----+---------------------------------------------------------+\n",
      "| SNP   | A1  | A2  | alt | ref | match_alleles                                           |\n",
      "+-------+-----+-----+-----+-----+---------------------------------------------------------+\n",
      "| str   | str | str | str | str | array<struct{swap: bool, flip: bool}>                   |\n",
      "+-------+-----+-----+-----+-----+---------------------------------------------------------+\n",
      "| snp1  | A   | G   | A   | G   | [{\"swap\":false,\"flip\":false}]                           |\n",
      "| snp12 | A   | C   | A   | G   | []                                                      |\n",
      "| snp2  | A   | G   | G   | A   | [{\"swap\":true,\"flip\":false}]                            |\n",
      "| snp3  | A   | G   | T   | C   | [{\"swap\":false,\"flip\":true}]                            |\n",
      "| snp4  | A   | G   | C   | T   | [{\"swap\":true,\"flip\":true}]                             |\n",
      "| snp5  | T   | A   | T   | A   | [{\"swap\":true,\"flip\":true},{\"swap\":false,\"flip\":false}] |\n",
      "| snp6  | T   | A   | A   | T   | [{\"swap\":true,\"flip\":false},{\"swap\":false,\"flip\":true}] |\n",
      "| snp7  | A   | AT  | A   | AT  | [{\"swap\":false,\"flip\":false}]                           |\n",
      "| snp8  | A   | AT  | AT  | A   | [{\"swap\":true,\"flip\":false}]                            |\n",
      "| snp9  | A   | C   | A   | C   | [{\"swap\":false,\"flip\":false}]                           |\n",
      "| snp9  | A   | C   | A   | G   | []                                                      |\n",
      "+-------+-----+-----+-----+-----+---------------------------------------------------------+\n",
      "\n"
     ]
    }
   ],
   "source": [
    "m = matched.drop('CHR', 'POS').explode('matches')\n",
    "m = m.transmute(**m.matches)\n",
    "m = m.drop(m.chrom, m.position, m.Case, m.idx, m.locus, m.alleles)\n",
    "m.show(width=100, n=20)"
   ]
  },
  {
   "cell_type": "markdown",
   "metadata": {},
   "source": [
    "### 2-row key locus"
   ]
  },
  {
   "cell_type": "code",
   "execution_count": 26,
   "metadata": {},
   "outputs": [],
   "source": [
    "gwas = gwas.annotate(locus = hl.struct(contig=gwas.CHR, \n",
    "                                       position=gwas.POS))\n",
    "gwas = gwas.key_by('locus')\n",
    "\n",
    "reference = reference.key_by('locus')"
   ]
  },
  {
   "cell_type": "code",
   "execution_count": 27,
   "metadata": {},
   "outputs": [
    {
     "name": "stderr",
     "output_type": "stream",
     "text": [
      "2018-04-30 15:43:39 Hail: INFO: Coerced sorted dataset\n",
      "2018-04-30 15:43:39 Hail: INFO: Coerced sorted dataset\n",
      "2018-04-30 15:43:39 Hail: INFO: Coerced sorted dataset\n"
     ]
    }
   ],
   "source": [
    "# matched = match_variants(gwas_row_key, gwas_alleles, reference_row_key, reference_alleles)\n",
    "matched_by_locus = match_variants(gwas.locus, gwas.alleles, reference.locus, reference.alleles)"
   ]
  },
  {
   "cell_type": "code",
   "execution_count": 32,
   "metadata": {},
   "outputs": [
    {
     "name": "stdout",
     "output_type": "stream",
     "text": [
      "+-------+-----+-----+-----+-----+---------------------------------------------------------+\n",
      "| SNP   | A1  | A2  | alt | ref | match_alleles                                           |\n",
      "+-------+-----+-----+-----+-----+---------------------------------------------------------+\n",
      "| str   | str | str | str | str | array<struct{swap: bool, flip: bool}>                   |\n",
      "+-------+-----+-----+-----+-----+---------------------------------------------------------+\n",
      "| snp1  | A   | G   | A   | G   | [{\"swap\":false,\"flip\":false}]                           |\n",
      "| snp2  | A   | G   | G   | A   | [{\"swap\":true,\"flip\":false}]                            |\n",
      "| snp3  | A   | G   | T   | C   | [{\"swap\":false,\"flip\":true}]                            |\n",
      "| snp4  | A   | G   | C   | T   | [{\"swap\":true,\"flip\":true}]                             |\n",
      "| snp5  | T   | A   | T   | A   | [{\"swap\":true,\"flip\":true},{\"swap\":false,\"flip\":false}] |\n",
      "| snp6  | T   | A   | A   | T   | [{\"swap\":true,\"flip\":false},{\"swap\":false,\"flip\":true}] |\n",
      "| snp7  | A   | AT  | A   | AT  | [{\"swap\":false,\"flip\":false}]                           |\n",
      "| snp8  | A   | AT  | AT  | A   | [{\"swap\":true,\"flip\":false}]                            |\n",
      "| snp9  | A   | C   | A   | C   | [{\"swap\":false,\"flip\":false}]                           |\n",
      "| snp9  | A   | C   | A   | G   | []                                                      |\n",
      "| snp12 | A   | C   | A   | G   | []                                                      |\n",
      "+-------+-----+-----+-----+-----+---------------------------------------------------------+\n",
      "\n"
     ]
    }
   ],
   "source": [
    "m = matched_by_locus.drop('CHR', 'POS').explode('matches')\n",
    "m = m.transmute(**m.matches)\n",
    "m = m.drop(m.chrom, m.position, m.Case, m.idx, m.locus, m.alleles, m.rsid)\n",
    "m.show(width=100, n=20)"
   ]
  },
  {
   "cell_type": "code",
   "execution_count": null,
   "metadata": {},
   "outputs": [],
   "source": []
  }
 ],
 "metadata": {
  "kernelspec": {
   "display_name": "Python 3",
   "language": "python",
   "name": "python3"
  },
  "language_info": {
   "codemirror_mode": {
    "name": "ipython",
    "version": 3
   },
   "file_extension": ".py",
   "mimetype": "text/x-python",
   "name": "python",
   "nbconvert_exporter": "python",
   "pygments_lexer": "ipython3",
   "version": "3.6.5"
  }
 },
 "nbformat": 4,
 "nbformat_minor": 2
}
